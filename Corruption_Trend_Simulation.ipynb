{
 "cells": [
  {
   "cell_type": "markdown",
   "id": "a7a219da",
   "metadata": {},
   "source": [
    "# simulation of corruption score of various countries over any years from a dataset "
   ]
  },
  {
   "cell_type": "code",
   "execution_count": 1,
   "id": "4f46bade",
   "metadata": {},
   "outputs": [],
   "source": [
    "import matplotlib.pyplot as pl\n",
    "import seaborn as sns\n",
    "import pandas as pd\n",
    "sns.set()"
   ]
  },
  {
   "cell_type": "markdown",
   "id": "ee77f2dc",
   "metadata": {},
   "source": [
    "**reading from dataset**"
   ]
  },
  {
   "cell_type": "code",
   "execution_count": 2,
   "id": "61f74dc0",
   "metadata": {},
   "outputs": [],
   "source": [
    "dataset = pd.read_csv('corruption_index.csv')"
   ]
  },
  {
   "cell_type": "code",
   "execution_count": 3,
   "id": "93dbfa19",
   "metadata": {},
   "outputs": [
    {
     "data": {
      "text/html": [
       "<div>\n",
       "<style scoped>\n",
       "    .dataframe tbody tr th:only-of-type {\n",
       "        vertical-align: middle;\n",
       "    }\n",
       "\n",
       "    .dataframe tbody tr th {\n",
       "        vertical-align: top;\n",
       "    }\n",
       "\n",
       "    .dataframe thead th {\n",
       "        text-align: right;\n",
       "    }\n",
       "</style>\n",
       "<table border=\"1\" class=\"dataframe\">\n",
       "  <thead>\n",
       "    <tr style=\"text-align: right;\">\n",
       "      <th></th>\n",
       "      <th>Country /Territory</th>\n",
       "      <th>Year AD</th>\n",
       "      <th>Year BS</th>\n",
       "      <th>Country Rank</th>\n",
       "      <th>Score</th>\n",
       "    </tr>\n",
       "  </thead>\n",
       "  <tbody>\n",
       "    <tr>\n",
       "      <th>0</th>\n",
       "      <td>Denmark</td>\n",
       "      <td>2014</td>\n",
       "      <td>2071</td>\n",
       "      <td>1</td>\n",
       "      <td>92</td>\n",
       "    </tr>\n",
       "    <tr>\n",
       "      <th>1</th>\n",
       "      <td>New Zealand</td>\n",
       "      <td>2014</td>\n",
       "      <td>2071</td>\n",
       "      <td>2</td>\n",
       "      <td>91</td>\n",
       "    </tr>\n",
       "    <tr>\n",
       "      <th>2</th>\n",
       "      <td>Finland</td>\n",
       "      <td>2014</td>\n",
       "      <td>2071</td>\n",
       "      <td>3</td>\n",
       "      <td>89</td>\n",
       "    </tr>\n",
       "    <tr>\n",
       "      <th>3</th>\n",
       "      <td>Sweden</td>\n",
       "      <td>2014</td>\n",
       "      <td>2071</td>\n",
       "      <td>4</td>\n",
       "      <td>87</td>\n",
       "    </tr>\n",
       "    <tr>\n",
       "      <th>4</th>\n",
       "      <td>Norway</td>\n",
       "      <td>2014</td>\n",
       "      <td>2071</td>\n",
       "      <td>5</td>\n",
       "      <td>86</td>\n",
       "    </tr>\n",
       "  </tbody>\n",
       "</table>\n",
       "</div>"
      ],
      "text/plain": [
       "  Country /Territory  Year AD  Year BS  Country Rank  Score\n",
       "0            Denmark     2014     2071             1     92\n",
       "1        New Zealand     2014     2071             2     91\n",
       "2            Finland     2014     2071             3     89\n",
       "3             Sweden     2014     2071             4     87\n",
       "4             Norway     2014     2071             5     86"
      ]
     },
     "execution_count": 3,
     "metadata": {},
     "output_type": "execute_result"
    }
   ],
   "source": [
    "dataset.head()"
   ]
  },
  {
   "cell_type": "markdown",
   "id": "2bbf9703",
   "metadata": {},
   "source": [
    "**selecting only required rows from dataset**"
   ]
  },
  {
   "cell_type": "code",
   "execution_count": 4,
   "id": "cff231eb",
   "metadata": {},
   "outputs": [],
   "source": [
    "country = 'Nepal'\n",
    "requiredRows = dataset[dataset['Country /Territory'] == country] "
   ]
  },
  {
   "cell_type": "code",
   "execution_count": 5,
   "id": "cf978c46",
   "metadata": {},
   "outputs": [
    {
     "data": {
      "text/html": [
       "<div>\n",
       "<style scoped>\n",
       "    .dataframe tbody tr th:only-of-type {\n",
       "        vertical-align: middle;\n",
       "    }\n",
       "\n",
       "    .dataframe tbody tr th {\n",
       "        vertical-align: top;\n",
       "    }\n",
       "\n",
       "    .dataframe thead th {\n",
       "        text-align: right;\n",
       "    }\n",
       "</style>\n",
       "<table border=\"1\" class=\"dataframe\">\n",
       "  <thead>\n",
       "    <tr style=\"text-align: right;\">\n",
       "      <th></th>\n",
       "      <th>Country /Territory</th>\n",
       "      <th>Year AD</th>\n",
       "      <th>Year BS</th>\n",
       "      <th>Country Rank</th>\n",
       "      <th>Score</th>\n",
       "    </tr>\n",
       "  </thead>\n",
       "  <tbody>\n",
       "    <tr>\n",
       "      <th>129</th>\n",
       "      <td>Nepal</td>\n",
       "      <td>2014</td>\n",
       "      <td>2071</td>\n",
       "      <td>126</td>\n",
       "      <td>29</td>\n",
       "    </tr>\n",
       "    <tr>\n",
       "      <th>291</th>\n",
       "      <td>Nepal</td>\n",
       "      <td>2013</td>\n",
       "      <td>2070</td>\n",
       "      <td>116</td>\n",
       "      <td>31</td>\n",
       "    </tr>\n",
       "    <tr>\n",
       "      <th>492</th>\n",
       "      <td>Nepal</td>\n",
       "      <td>2012</td>\n",
       "      <td>2069</td>\n",
       "      <td>139</td>\n",
       "      <td>27</td>\n",
       "    </tr>\n",
       "  </tbody>\n",
       "</table>\n",
       "</div>"
      ],
      "text/plain": [
       "    Country /Territory  Year AD  Year BS  Country Rank  Score\n",
       "129              Nepal     2014     2071           126     29\n",
       "291              Nepal     2013     2070           116     31\n",
       "492              Nepal     2012     2069           139     27"
      ]
     },
     "execution_count": 5,
     "metadata": {},
     "output_type": "execute_result"
    }
   ],
   "source": [
    "requiredRows"
   ]
  },
  {
   "cell_type": "markdown",
   "id": "f948f099",
   "metadata": {},
   "source": [
    "**taking all the scores into a list**"
   ]
  },
  {
   "cell_type": "code",
   "execution_count": 6,
   "id": "4457a109",
   "metadata": {},
   "outputs": [],
   "source": [
    "scoreList = requiredRows['Score'].tolist()"
   ]
  },
  {
   "cell_type": "code",
   "execution_count": 7,
   "id": "a4c480a7",
   "metadata": {},
   "outputs": [
    {
     "data": {
      "text/plain": [
       "[29, 31, 27]"
      ]
     },
     "execution_count": 7,
     "metadata": {},
     "output_type": "execute_result"
    }
   ],
   "source": [
    "scoreList"
   ]
  },
  {
   "cell_type": "markdown",
   "id": "111ae560",
   "metadata": {},
   "source": [
    "**calculating the difference between each elements and appending to a list**"
   ]
  },
  {
   "cell_type": "code",
   "execution_count": 8,
   "id": "1356522f",
   "metadata": {},
   "outputs": [],
   "source": [
    "scoreDiff = []\n",
    "\n",
    "for i in range(len(scoreList)-1):\n",
    "    diff = scoreList[i+1] - scoreList[i]\n",
    "    scoreDiff.append(diff)\n"
   ]
  },
  {
   "cell_type": "code",
   "execution_count": 9,
   "id": "d0529119",
   "metadata": {},
   "outputs": [
    {
     "data": {
      "text/plain": [
       "[2, -4]"
      ]
     },
     "execution_count": 9,
     "metadata": {},
     "output_type": "execute_result"
    }
   ],
   "source": [
    "scoreDiff"
   ]
  },
  {
   "cell_type": "markdown",
   "id": "bf08ffaf",
   "metadata": {},
   "source": [
    "**calculating the change rate**"
   ]
  },
  {
   "cell_type": "code",
   "execution_count": 10,
   "id": "7fd41953",
   "metadata": {},
   "outputs": [],
   "source": [
    "rateofChange = sum(scoreDiff) / len(scoreDiff)"
   ]
  },
  {
   "cell_type": "code",
   "execution_count": 11,
   "id": "8145bdce",
   "metadata": {},
   "outputs": [
    {
     "data": {
      "text/plain": [
       "-1.0"
      ]
     },
     "execution_count": 11,
     "metadata": {},
     "output_type": "execute_result"
    }
   ],
   "source": [
    "rateofChange"
   ]
  },
  {
   "cell_type": "markdown",
   "id": "bb1bba1e",
   "metadata": {},
   "source": [
    "**years for simulation**"
   ]
  },
  {
   "cell_type": "code",
   "execution_count": 12,
   "id": "97ddb033",
   "metadata": {},
   "outputs": [],
   "source": [
    "years = 10"
   ]
  },
  {
   "cell_type": "code",
   "execution_count": 13,
   "id": "1641a34e",
   "metadata": {},
   "outputs": [],
   "source": [
    "for i in range(years):\n",
    "    scoreList.append(round(scoreList[len(scoreList) - 1] + rateofChange))\n"
   ]
  },
  {
   "cell_type": "code",
   "execution_count": 14,
   "id": "da512c3b",
   "metadata": {},
   "outputs": [
    {
     "data": {
      "text/plain": [
       "[29, 31, 27, 26, 25, 24, 23, 22, 21, 20, 19, 18, 17]"
      ]
     },
     "execution_count": 14,
     "metadata": {},
     "output_type": "execute_result"
    }
   ],
   "source": [
    "scoreList"
   ]
  },
  {
   "cell_type": "markdown",
   "id": "c7285dc0",
   "metadata": {},
   "source": [
    "**list of years**"
   ]
  },
  {
   "cell_type": "code",
   "execution_count": 15,
   "id": "de294368",
   "metadata": {},
   "outputs": [],
   "source": [
    "currentYear = 2012\n",
    "yearList = [currentYear]\n",
    "\n",
    "for i in range(years + 2):\n",
    "    yearList.append(yearList[len(yearList) - 1] + 1)\n"
   ]
  },
  {
   "cell_type": "code",
   "execution_count": 16,
   "id": "c6332c52",
   "metadata": {},
   "outputs": [
    {
     "data": {
      "text/plain": [
       "[2012, 2013, 2014, 2015, 2016, 2017, 2018, 2019, 2020, 2021, 2022, 2023, 2024]"
      ]
     },
     "execution_count": 16,
     "metadata": {},
     "output_type": "execute_result"
    }
   ],
   "source": [
    "yearList"
   ]
  },
  {
   "cell_type": "markdown",
   "id": "244d132f",
   "metadata": {},
   "source": [
    "**plotting data lists**"
   ]
  },
  {
   "cell_type": "code",
   "execution_count": 17,
   "id": "6bf549a2",
   "metadata": {},
   "outputs": [
    {
     "data": {
      "text/plain": [
       "Text(0, 0.5, 'Corruption Scores')"
      ]
     },
     "execution_count": 17,
     "metadata": {},
     "output_type": "execute_result"
    },
    {
     "data": {
      "image/png": "[encoded data removed]",
      "text/plain": [
       "<Figure size 640x480 with 1 Axes>"
      ]
     },
     "metadata": {},
     "output_type": "display_data"
    }
   ],
   "source": [
    "pl.plot(yearList, scoreList)\n",
    "pl.xlabel('Years')\n",
    "pl.ylabel('Corruption Scores')\n"
   ]
  }
 ],
 "metadata": {
  "kernelspec": {
   "display_name": "Python 3 (ipykernel)",
   "language": "python",
   "name": "python3"
  },
  "language_info": {
   "codemirror_mode": {
    "name": "ipython",
    "version": 3
   },
   "file_extension": ".py",
   "mimetype": "text/x-python",
   "name": "python",
   "nbconvert_exporter": "python",
   "pygments_lexer": "ipython3",
   "version": "3.9.13"
  },
  "vscode": {
   "interpreter": {
    "hash": "a3556bba165ed71132c4be7dd77bbef87e876b363a75062635e4379d4d4e386b"
   }
  }
 },
 "nbformat": 4,
 "nbformat_minor": 5
}
